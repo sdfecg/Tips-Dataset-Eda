{
 "cells": [
  {
   "attachments": {
    "tips.jpg": {
     "image/jpeg": "[encoded data removed]"
    }
   },
   "cell_type": "markdown",
   "id": "73348e71",
   "metadata": {},
   "source": [
    "![tips.jpg](attachment:tips.jpg)"
   ]
  },
  {
   "cell_type": "code",
   "execution_count": 2,
   "id": "32448d62",
   "metadata": {
    "slideshow": {
     "slide_type": "slide"
    }
   },
   "outputs": [],
   "source": [
    "import pandas as pd\n",
    "import numpy as np\n",
    "import matplotlib.pyplot as plt\n",
    "import seaborn as sns"
   ]
  },
  {
   "cell_type": "code",
   "execution_count": 3,
   "id": "c81bb65d",
   "metadata": {
    "slideshow": {
     "slide_type": "slide"
    }
   },
   "outputs": [],
   "source": [
    "df=sns.load_dataset('tips')"
   ]
  },
  {
   "cell_type": "code",
   "execution_count": 4,
   "id": "9fc368dd",
   "metadata": {},
   "outputs": [
    {
     "data": {
      "text/html": [
       "<div>\n",
       "<style scoped>\n",
       "    .dataframe tbody tr th:only-of-type {\n",
       "        vertical-align: middle;\n",
       "    }\n",
       "\n",
       "    .dataframe tbody tr th {\n",
       "        vertical-align: top;\n",
       "    }\n",
       "\n",
       "    .dataframe thead th {\n",
       "        text-align: right;\n",
       "    }\n",
       "</style>\n",
       "<table border=\"1\" class=\"dataframe\">\n",
       "  <thead>\n",
       "    <tr style=\"text-align: right;\">\n",
       "      <th></th>\n",
       "      <th>total_bill</th>\n",
       "      <th>tip</th>\n",
       "      <th>sex</th>\n",
       "      <th>smoker</th>\n",
       "      <th>day</th>\n",
       "      <th>time</th>\n",
       "      <th>size</th>\n",
       "    </tr>\n",
       "  </thead>\n",
       "  <tbody>\n",
       "    <tr>\n",
       "      <th>0</th>\n",
       "      <td>16.99</td>\n",
       "      <td>1.01</td>\n",
       "      <td>Female</td>\n",
       "      <td>No</td>\n",
       "      <td>Sun</td>\n",
       "      <td>Dinner</td>\n",
       "      <td>2</td>\n",
       "    </tr>\n",
       "    <tr>\n",
       "      <th>1</th>\n",
       "      <td>10.34</td>\n",
       "      <td>1.66</td>\n",
       "      <td>Male</td>\n",
       "      <td>No</td>\n",
       "      <td>Sun</td>\n",
       "      <td>Dinner</td>\n",
       "      <td>3</td>\n",
       "    </tr>\n",
       "    <tr>\n",
       "      <th>2</th>\n",
       "      <td>21.01</td>\n",
       "      <td>3.50</td>\n",
       "      <td>Male</td>\n",
       "      <td>No</td>\n",
       "      <td>Sun</td>\n",
       "      <td>Dinner</td>\n",
       "      <td>3</td>\n",
       "    </tr>\n",
       "    <tr>\n",
       "      <th>3</th>\n",
       "      <td>23.68</td>\n",
       "      <td>3.31</td>\n",
       "      <td>Male</td>\n",
       "      <td>No</td>\n",
       "      <td>Sun</td>\n",
       "      <td>Dinner</td>\n",
       "      <td>2</td>\n",
       "    </tr>\n",
       "    <tr>\n",
       "      <th>4</th>\n",
       "      <td>24.59</td>\n",
       "      <td>3.61</td>\n",
       "      <td>Female</td>\n",
       "      <td>No</td>\n",
       "      <td>Sun</td>\n",
       "      <td>Dinner</td>\n",
       "      <td>4</td>\n",
       "    </tr>\n",
       "    <tr>\n",
       "      <th>...</th>\n",
       "      <td>...</td>\n",
       "      <td>...</td>\n",
       "      <td>...</td>\n",
       "      <td>...</td>\n",
       "      <td>...</td>\n",
       "      <td>...</td>\n",
       "      <td>...</td>\n",
       "    </tr>\n",
       "    <tr>\n",
       "      <th>239</th>\n",
       "      <td>29.03</td>\n",
       "      <td>5.92</td>\n",
       "      <td>Male</td>\n",
       "      <td>No</td>\n",
       "      <td>Sat</td>\n",
       "      <td>Dinner</td>\n",
       "      <td>3</td>\n",
       "    </tr>\n",
       "    <tr>\n",
       "      <th>240</th>\n",
       "      <td>27.18</td>\n",
       "      <td>2.00</td>\n",
       "      <td>Female</td>\n",
       "      <td>Yes</td>\n",
       "      <td>Sat</td>\n",
       "      <td>Dinner</td>\n",
       "      <td>2</td>\n",
       "    </tr>\n",
       "    <tr>\n",
       "      <th>241</th>\n",
       "      <td>22.67</td>\n",
       "      <td>2.00</td>\n",
       "      <td>Male</td>\n",
       "      <td>Yes</td>\n",
       "      <td>Sat</td>\n",
       "      <td>Dinner</td>\n",
       "      <td>2</td>\n",
       "    </tr>\n",
       "    <tr>\n",
       "      <th>242</th>\n",
       "      <td>17.82</td>\n",
       "      <td>1.75</td>\n",
       "      <td>Male</td>\n",
       "      <td>No</td>\n",
       "      <td>Sat</td>\n",
       "      <td>Dinner</td>\n",
       "      <td>2</td>\n",
       "    </tr>\n",
       "    <tr>\n",
       "      <th>243</th>\n",
       "      <td>18.78</td>\n",
       "      <td>3.00</td>\n",
       "      <td>Female</td>\n",
       "      <td>No</td>\n",
       "      <td>Thur</td>\n",
       "      <td>Dinner</td>\n",
       "      <td>2</td>\n",
       "    </tr>\n",
       "  </tbody>\n",
       "</table>\n",
       "<p>244 rows × 7 columns</p>\n",
       "</div>"
      ],
      "text/plain": [
       "     total_bill   tip     sex smoker   day    time  size\n",
       "0         16.99  1.01  Female     No   Sun  Dinner     2\n",
       "1         10.34  1.66    Male     No   Sun  Dinner     3\n",
       "2         21.01  3.50    Male     No   Sun  Dinner     3\n",
       "3         23.68  3.31    Male     No   Sun  Dinner     2\n",
       "4         24.59  3.61  Female     No   Sun  Dinner     4\n",
       "..          ...   ...     ...    ...   ...     ...   ...\n",
       "239       29.03  5.92    Male     No   Sat  Dinner     3\n",
       "240       27.18  2.00  Female    Yes   Sat  Dinner     2\n",
       "241       22.67  2.00    Male    Yes   Sat  Dinner     2\n",
       "242       17.82  1.75    Male     No   Sat  Dinner     2\n",
       "243       18.78  3.00  Female     No  Thur  Dinner     2\n",
       "\n",
       "[244 rows x 7 columns]"
      ]
     },
     "execution_count": 4,
     "metadata": {},
     "output_type": "execute_result"
    }
   ],
   "source": [
    "df"
   ]
  },
  {
   "cell_type": "markdown",
   "id": "08ba79da",
   "metadata": {
    "slideshow": {
     "slide_type": "slide"
    }
   },
   "source": [
    "### 1)-Is there any relationship between total_bill and tip?"
   ]
  },
  {
   "cell_type": "code",
   "execution_count": 32,
   "id": "6f6bef49",
   "metadata": {},
   "outputs": [
    {
     "data": {
      "text/html": [
       "<div>\n",
       "<style scoped>\n",
       "    .dataframe tbody tr th:only-of-type {\n",
       "        vertical-align: middle;\n",
       "    }\n",
       "\n",
       "    .dataframe tbody tr th {\n",
       "        vertical-align: top;\n",
       "    }\n",
       "\n",
       "    .dataframe thead th {\n",
       "        text-align: right;\n",
       "    }\n",
       "</style>\n",
       "<table border=\"1\" class=\"dataframe\">\n",
       "  <thead>\n",
       "    <tr style=\"text-align: right;\">\n",
       "      <th></th>\n",
       "      <th>total_bill</th>\n",
       "      <th>tip</th>\n",
       "    </tr>\n",
       "  </thead>\n",
       "  <tbody>\n",
       "    <tr>\n",
       "      <th>total_bill</th>\n",
       "      <td>1.000000</td>\n",
       "      <td>0.675734</td>\n",
       "    </tr>\n",
       "    <tr>\n",
       "      <th>tip</th>\n",
       "      <td>0.675734</td>\n",
       "      <td>1.000000</td>\n",
       "    </tr>\n",
       "  </tbody>\n",
       "</table>\n",
       "</div>"
      ],
      "text/plain": [
       "            total_bill       tip\n",
       "total_bill    1.000000  0.675734\n",
       "tip           0.675734  1.000000"
      ]
     },
     "execution_count": 32,
     "metadata": {},
     "output_type": "execute_result"
    }
   ],
   "source": [
    "df.loc[0:245,('total_bill','tip')].corr()"
   ]
  },
  {
   "cell_type": "code",
   "execution_count": 33,
   "id": "cc2776dd",
   "metadata": {},
   "outputs": [
    {
     "data": {
      "text/plain": [
       "Text(0.5, 1.0, 'The Relation b/w total_bill and tip')"
      ]
     },
     "execution_count": 33,
     "metadata": {},
     "output_type": "execute_result"
    },
    {
     "data": {
      "image/png": "[encoded data removed]",
      "text/plain": [
       "<Figure size 640x480 with 2 Axes>"
      ]
     },
     "metadata": {},
     "output_type": "display_data"
    }
   ],
   "source": [
    "df1=df.loc[0:245,('total_bill','tip')]\n",
    "sns.heatmap(data=df1.corr(),annot=True)\n",
    "plt.title('The Relation b/w total_bill and tip' )"
   ]
  },
  {
   "cell_type": "markdown",
   "id": "3d3ffc94",
   "metadata": {},
   "source": [
    "### 2)-Majority of which gender paying more tip?"
   ]
  },
  {
   "cell_type": "code",
   "execution_count": 115,
   "id": "84530e4f",
   "metadata": {},
   "outputs": [
    {
     "data": {
      "text/html": [
       "<div>\n",
       "<style scoped>\n",
       "    .dataframe tbody tr th:only-of-type {\n",
       "        vertical-align: middle;\n",
       "    }\n",
       "\n",
       "    .dataframe tbody tr th {\n",
       "        vertical-align: top;\n",
       "    }\n",
       "\n",
       "    .dataframe thead th {\n",
       "        text-align: right;\n",
       "    }\n",
       "</style>\n",
       "<table border=\"1\" class=\"dataframe\">\n",
       "  <thead>\n",
       "    <tr style=\"text-align: right;\">\n",
       "      <th></th>\n",
       "      <th>tip</th>\n",
       "    </tr>\n",
       "    <tr>\n",
       "      <th>sex</th>\n",
       "      <th></th>\n",
       "    </tr>\n",
       "  </thead>\n",
       "  <tbody>\n",
       "    <tr>\n",
       "      <th>Male</th>\n",
       "      <td>485.07</td>\n",
       "    </tr>\n",
       "    <tr>\n",
       "      <th>Female</th>\n",
       "      <td>246.51</td>\n",
       "    </tr>\n",
       "  </tbody>\n",
       "</table>\n",
       "</div>"
      ],
      "text/plain": [
       "           tip\n",
       "sex           \n",
       "Male    485.07\n",
       "Female  246.51"
      ]
     },
     "execution_count": 115,
     "metadata": {},
     "output_type": "execute_result"
    }
   ],
   "source": [
    "df.loc[0:245,('tip','sex')].groupby(by='sex').sum()"
   ]
  },
  {
   "cell_type": "code",
   "execution_count": 114,
   "id": "9d9cbbb9",
   "metadata": {},
   "outputs": [
    {
     "data": {
      "text/plain": [
       "<AxesSubplot:xlabel='sex', ylabel='tip'>"
      ]
     },
     "execution_count": 114,
     "metadata": {},
     "output_type": "execute_result"
    },
    {
     "data": {
      "image/png": "[encoded data removed]",
      "text/plain": [
       "<Figure size 640x480 with 1 Axes>"
      ]
     },
     "metadata": {},
     "output_type": "display_data"
    }
   ],
   "source": [
    "sns.barplot(data=df.loc[0:245,('sex','tip')].groupby(by='sex').sum().reset_index(),x='sex',y='tip', hue='sex')"
   ]
  },
  {
   "cell_type": "markdown",
   "id": "815c7201",
   "metadata": {},
   "source": [
    "### 3)-Maximum smokers in which gender ,compare that smoking gender with the non-smoking for who paid high tip?"
   ]
  },
  {
   "cell_type": "markdown",
   "id": "deef6118",
   "metadata": {},
   "source": [
    "### Smokers and Non-smoker"
   ]
  },
  {
   "cell_type": "code",
   "execution_count": 75,
   "id": "34bb644f",
   "metadata": {},
   "outputs": [
    {
     "data": {
      "text/plain": [
       "sex     smoker_type\n",
       "Male    smoker         183.07\n",
       "        Non-smoker     302.00\n",
       "Female  smoker          96.74\n",
       "        Non-smoker     149.77\n",
       "Name: tip, dtype: float64"
      ]
     },
     "execution_count": 75,
     "metadata": {},
     "output_type": "execute_result"
    }
   ],
   "source": [
    "df['smoker_type'] = df['smoker'].apply(lambda x: 'smoker' if x=='Yes' else 'Non-smoker')\n",
    "df.groupby(['sex','smoker_type'])['tip'].sum()"
   ]
  },
  {
   "cell_type": "markdown",
   "id": "8623de18",
   "metadata": {},
   "source": [
    "### 4)-Relationship of the food quantity(size) and tips?"
   ]
  },
  {
   "cell_type": "code",
   "execution_count": 34,
   "id": "c8394ef7",
   "metadata": {},
   "outputs": [
    {
     "data": {
      "text/html": [
       "<div>\n",
       "<style scoped>\n",
       "    .dataframe tbody tr th:only-of-type {\n",
       "        vertical-align: middle;\n",
       "    }\n",
       "\n",
       "    .dataframe tbody tr th {\n",
       "        vertical-align: top;\n",
       "    }\n",
       "\n",
       "    .dataframe thead th {\n",
       "        text-align: right;\n",
       "    }\n",
       "</style>\n",
       "<table border=\"1\" class=\"dataframe\">\n",
       "  <thead>\n",
       "    <tr style=\"text-align: right;\">\n",
       "      <th></th>\n",
       "      <th>tip</th>\n",
       "      <th>size</th>\n",
       "    </tr>\n",
       "  </thead>\n",
       "  <tbody>\n",
       "    <tr>\n",
       "      <th>tip</th>\n",
       "      <td>1.000000</td>\n",
       "      <td>0.489299</td>\n",
       "    </tr>\n",
       "    <tr>\n",
       "      <th>size</th>\n",
       "      <td>0.489299</td>\n",
       "      <td>1.000000</td>\n",
       "    </tr>\n",
       "  </tbody>\n",
       "</table>\n",
       "</div>"
      ],
      "text/plain": [
       "           tip      size\n",
       "tip   1.000000  0.489299\n",
       "size  0.489299  1.000000"
      ]
     },
     "execution_count": 34,
     "metadata": {},
     "output_type": "execute_result"
    }
   ],
   "source": [
    "df.loc[0:245,('tip','size')].corr()"
   ]
  },
  {
   "cell_type": "code",
   "execution_count": 38,
   "id": "7c050280",
   "metadata": {},
   "outputs": [
    {
     "data": {
      "text/plain": [
       "<AxesSubplot:>"
      ]
     },
     "execution_count": 38,
     "metadata": {},
     "output_type": "execute_result"
    },
    {
     "data": {
      "image/png": "[encoded data removed]",
      "text/plain": [
       "<Figure size 640x480 with 2 Axes>"
      ]
     },
     "metadata": {},
     "output_type": "display_data"
    }
   ],
   "source": [
    "sns.heatmap(data=df.loc[0:245,('tip','size')].corr(),annot=True)"
   ]
  },
  {
   "cell_type": "markdown",
   "id": "02e8092f",
   "metadata": {},
   "source": [
    "### 5)- Which gender is visiting most in weekend and working days"
   ]
  },
  {
   "cell_type": "code",
   "execution_count": 73,
   "id": "7c8b3bca",
   "metadata": {},
   "outputs": [
    {
     "data": {
      "text/plain": [
       "day_type     sex   \n",
       "Weekend      Male      117\n",
       "             Female     46\n",
       "Working day  Male       40\n",
       "             Female     41\n",
       "Name: sex, dtype: int64"
      ]
     },
     "execution_count": 73,
     "metadata": {},
     "output_type": "execute_result"
    }
   ],
   "source": [
    "df['day_type'] = df['day'].apply(lambda x: 'Weekend' if x in ['Sat', 'Sun'] else 'Working day')\n",
    "df.groupby(['day_type', 'sex'])['sex'].count()"
   ]
  },
  {
   "cell_type": "markdown",
   "id": "b8f76a99",
   "metadata": {},
   "source": [
    "### 6)-Getting high tip on weekend or working days?"
   ]
  },
  {
   "cell_type": "code",
   "execution_count": 77,
   "id": "c392699c",
   "metadata": {},
   "outputs": [
    {
     "data": {
      "text/plain": [
       "day_type\n",
       "Weekend        507.79\n",
       "Working day    223.79\n",
       "Name: tip, dtype: float64"
      ]
     },
     "execution_count": 77,
     "metadata": {},
     "output_type": "execute_result"
    }
   ],
   "source": [
    "df['day_type'] = df['day'].apply(lambda x: 'Weekend' if x in ['Sat', 'Sun'] else 'Working day')\n",
    "df.groupby(by='day_type')['tip'].sum()"
   ]
  },
  {
   "cell_type": "markdown",
   "id": "7a8796a4",
   "metadata": {},
   "source": [
    "### 7)-which gender paid high tip on weekdays and working days?"
   ]
  },
  {
   "cell_type": "code",
   "execution_count": 79,
   "id": "fb2e606c",
   "metadata": {},
   "outputs": [
    {
     "data": {
      "text/plain": [
       "day_type    sex   \n",
       "Workingday  Male      116.34\n",
       "            Female    107.45\n",
       "weekend     Male      368.73\n",
       "            Female    139.06\n",
       "Name: tip, dtype: float64"
      ]
     },
     "execution_count": 79,
     "metadata": {},
     "output_type": "execute_result"
    }
   ],
   "source": [
    "df['day_type']=df['day'].apply(lambda x: 'weekend' if x in ['Sun','Sat'] else 'Workingday')\n",
    "df.groupby(['day_type','sex'])['tip'].sum()"
   ]
  },
  {
   "cell_type": "markdown",
   "id": "630cb06b",
   "metadata": {},
   "source": [
    "### 8)- The people who visit for Dinner and had more than average size, maximum of  what gender?"
   ]
  },
  {
   "cell_type": "code",
   "execution_count": 128,
   "id": "59f8dc7c",
   "metadata": {},
   "outputs": [
    {
     "data": {
      "text/plain": [
       "time    sex   \n",
       "Lunch   Male       0\n",
       "        Female     0\n",
       "Dinner  Male      52\n",
       "        Female    18\n",
       "Name: sex, dtype: int64"
      ]
     },
     "execution_count": 128,
     "metadata": {},
     "output_type": "execute_result"
    }
   ],
   "source": [
    "df4=df.loc[0:245,('sex','size','time')].where(df['time'] == 'Dinner')\n",
    "df4.where(df['size']>df['size'].mean()).groupby(['time','sex'])['sex'].count()"
   ]
  },
  {
   "cell_type": "markdown",
   "id": "ad8671bb",
   "metadata": {},
   "source": [
    "### 9)- From above question we found the gender ,from that the total tip paid by both gender ?"
   ]
  },
  {
   "cell_type": "code",
   "execution_count": 148,
   "id": "a9ec8774",
   "metadata": {},
   "outputs": [
    {
     "data": {
      "text/plain": [
       "time    sex   \n",
       "Lunch   Male        0.00\n",
       "        Female      0.00\n",
       "Dinner  Male      201.08\n",
       "        Female     66.15\n",
       "Name: tip, dtype: float64"
      ]
     },
     "execution_count": 148,
     "metadata": {},
     "output_type": "execute_result"
    }
   ],
   "source": [
    "df4=df.loc[0:245,('sex','size','time','tip')].where(df['time']=='Dinner')\n",
    "df4.where(df['size']>df['size'].mean()).groupby(['time','sex'])['tip'].sum()"
   ]
  },
  {
   "cell_type": "markdown",
   "id": "8e098342",
   "metadata": {},
   "source": [
    "### 10)- In which particular day the peolple order for more size ,group by days?"
   ]
  },
  {
   "cell_type": "code",
   "execution_count": 150,
   "id": "41394168",
   "metadata": {},
   "outputs": [
    {
     "data": {
      "text/plain": [
       "day_type\n",
       "Weekend       435\n",
       "Workingday    192\n",
       "Name: size, dtype: int64"
      ]
     },
     "execution_count": 150,
     "metadata": {},
     "output_type": "execute_result"
    }
   ],
   "source": [
    "df['day_type']=df['day'].apply(lambda x: 'Weekend' if x in ['Sun','Sat'] else 'Workingday')\n",
    "df.groupby(['day_type'])['size'].sum()"
   ]
  },
  {
   "cell_type": "markdown",
   "id": "33613514",
   "metadata": {},
   "source": [
    "### 11)- Maximum of which gender paid less than the average tip?"
   ]
  },
  {
   "cell_type": "code",
   "execution_count": 160,
   "id": "334f248a",
   "metadata": {},
   "outputs": [
    {
     "data": {
      "text/html": [
       "<div>\n",
       "<style scoped>\n",
       "    .dataframe tbody tr th:only-of-type {\n",
       "        vertical-align: middle;\n",
       "    }\n",
       "\n",
       "    .dataframe tbody tr th {\n",
       "        vertical-align: top;\n",
       "    }\n",
       "\n",
       "    .dataframe thead th {\n",
       "        text-align: right;\n",
       "    }\n",
       "</style>\n",
       "<table border=\"1\" class=\"dataframe\">\n",
       "  <thead>\n",
       "    <tr style=\"text-align: right;\">\n",
       "      <th></th>\n",
       "      <th>tip</th>\n",
       "    </tr>\n",
       "    <tr>\n",
       "      <th>sex</th>\n",
       "      <th></th>\n",
       "    </tr>\n",
       "  </thead>\n",
       "  <tbody>\n",
       "    <tr>\n",
       "      <th>Male</th>\n",
       "      <td>75</td>\n",
       "    </tr>\n",
       "    <tr>\n",
       "      <th>Female</th>\n",
       "      <td>48</td>\n",
       "    </tr>\n",
       "  </tbody>\n",
       "</table>\n",
       "</div>"
      ],
      "text/plain": [
       "        tip\n",
       "sex        \n",
       "Male     75\n",
       "Female   48"
      ]
     },
     "execution_count": 160,
     "metadata": {},
     "output_type": "execute_result"
    }
   ],
   "source": [
    "df.loc[0:245,('sex','tip')].where(df['tip']<df['tip'].mean()).groupby(by='sex').count()"
   ]
  },
  {
   "cell_type": "code",
   "execution_count": 159,
   "id": "12a57682",
   "metadata": {},
   "outputs": [
    {
     "data": {
      "text/plain": [
       "<AxesSubplot:xlabel='sex', ylabel='tip'>"
      ]
     },
     "execution_count": 159,
     "metadata": {},
     "output_type": "execute_result"
    },
    {
     "data": {
      "image/png": "[encoded data removed]",
      "text/plain": [
       "<Figure size 640x480 with 1 Axes>"
      ]
     },
     "metadata": {},
     "output_type": "display_data"
    }
   ],
   "source": [
    "df5=df.loc[0:245,('sex','tip')].where(df['tip']<df['tip'].mean()).groupby(by='sex').count()\n",
    "sns.barplot(data=df5.reset_index(),x='sex',y='tip',hue='sex')"
   ]
  },
  {
   "cell_type": "markdown",
   "id": "1b18bc2e",
   "metadata": {},
   "source": [
    "### 12)- More somkers visit on which time?"
   ]
  },
  {
   "cell_type": "code",
   "execution_count": 179,
   "id": "d9c4a2b6",
   "metadata": {},
   "outputs": [
    {
     "data": {
      "text/plain": [
       "smoker  time  \n",
       "Yes     Lunch      23\n",
       "        Dinner     70\n",
       "No      Lunch      45\n",
       "        Dinner    106\n",
       "Name: smoker, dtype: int64"
      ]
     },
     "execution_count": 179,
     "metadata": {},
     "output_type": "execute_result"
    }
   ],
   "source": [
    "df.loc[0:245, ('smoker', 'time')].groupby(['smoker','time'])['smoker'].count()\n"
   ]
  },
  {
   "cell_type": "markdown",
   "id": "ed622b9c",
   "metadata": {},
   "source": [
    "### 13)-Which gender is buying more food in what time?"
   ]
  },
  {
   "cell_type": "code",
   "execution_count": 181,
   "id": "7d93466f",
   "metadata": {},
   "outputs": [
    {
     "data": {
      "text/plain": [
       "time    sex   \n",
       "Lunch   Male       78\n",
       "        Female     86\n",
       "Dinner  Male      335\n",
       "        Female    128\n",
       "Name: size, dtype: int64"
      ]
     },
     "execution_count": 181,
     "metadata": {},
     "output_type": "execute_result"
    }
   ],
   "source": [
    "df.loc[0:245,('time','sex','size')].groupby(['time','sex'])['size'].sum()"
   ]
  },
  {
   "cell_type": "markdown",
   "id": "6cbd63fb",
   "metadata": {},
   "source": [
    "### 14)-What is the most prefered size of the customers"
   ]
  },
  {
   "cell_type": "code",
   "execution_count": 187,
   "id": "a91df51b",
   "metadata": {},
   "outputs": [
    {
     "data": {
      "text/plain": [
       "0    2\n",
       "Name: size, dtype: int64"
      ]
     },
     "execution_count": 187,
     "metadata": {},
     "output_type": "execute_result"
    }
   ],
   "source": [
    "df.loc[0:245,('size')].mode()"
   ]
  },
  {
   "cell_type": "markdown",
   "id": "0b33e1cf",
   "metadata": {},
   "source": [
    "### 15)-  Highest total bill paid in what time?"
   ]
  },
  {
   "cell_type": "code",
   "execution_count": 191,
   "id": "73f35a46",
   "metadata": {},
   "outputs": [
    {
     "data": {
      "text/plain": [
       "time\n",
       "Lunch     43.11\n",
       "Dinner    50.81\n",
       "Name: total_bill, dtype: float64"
      ]
     },
     "execution_count": 191,
     "metadata": {},
     "output_type": "execute_result"
    }
   ],
   "source": [
    "df.loc[0:,('time','total_bill')].groupby(by='time')['total_bill'].max()"
   ]
  }
 ],
 "metadata": {
  "kernelspec": {
   "display_name": "Python 3 (ipykernel)",
   "language": "python",
   "name": "python3"
  },
  "language_info": {
   "codemirror_mode": {
    "name": "ipython",
    "version": 3
   },
   "file_extension": ".py",
   "mimetype": "text/x-python",
   "name": "python",
   "nbconvert_exporter": "python",
   "pygments_lexer": "ipython3",
   "version": "3.9.13"
  }
 },
 "nbformat": 4,
 "nbformat_minor": 5
}
